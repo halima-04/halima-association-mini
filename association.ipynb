{
 "cells": [
  {
   "cell_type": "code",
   "execution_count": 1,
   "id": "97702d25",
   "metadata": {},
   "outputs": [
    {
     "name": "stdout",
     "output_type": "stream",
     "text": [
      "Transaction 1: ['Butter', 'Bread', 'Cheese', 'Bananas']\n",
      "Transaction 2: ['Apples', 'Cereal', 'Butter', 'Bread']\n",
      "Transaction 3: ['Bananas', 'Cereal']\n",
      "Transaction 4: ['Butter', 'Apples']\n",
      "Transaction 5: ['Eggs', 'Milk']\n",
      "Transaction 6: ['Bananas', 'Butter', 'Cereal', 'Milk']\n",
      "Transaction 7: ['Bananas', 'Butter', 'Cheese']\n",
      "Transaction 8: ['Bananas', 'Butter', 'Cereal', 'Cheese']\n",
      "Transaction 9: ['Bananas', 'Milk']\n",
      "Transaction 10: ['Eggs', 'Milk', 'Bread', 'Cereal']\n"
     ]
    }
   ],
   "source": [
    "#Simulate Transaction Data\n",
    "import pandas as pd\n",
    "import random\n",
    "\n",
    "# Define item pool\n",
    "items = ['Bread', 'Milk', 'Eggs', 'Cheese', 'Butter', 'Apples', 'Bananas', 'Cereal']\n",
    "\n",
    "# Generate 10 transactions with 2–5 random items each\n",
    "transactions = []\n",
    "for _ in range(10):\n",
    "    transaction = random.sample(items, random.randint(2, 5))\n",
    "    transactions.append(transaction)\n",
    "\n",
    "# Display the transactions\n",
    "for i, t in enumerate(transactions, 1):\n",
    "    print(f\"Transaction {i}: {t}\")\n"
   ]
  },
  {
   "cell_type": "code",
   "execution_count": 4,
   "id": "d7172bff",
   "metadata": {},
   "outputs": [
    {
     "name": "stdout",
     "output_type": "stream",
     "text": [
      "\n",
      "Frequent Itemsets:\n",
      "    support                   itemsets\n",
      "0       0.6                  (Bananas)\n",
      "1       0.3                    (Bread)\n",
      "2       0.6                   (Butter)\n",
      "3       0.5                   (Cereal)\n",
      "4       0.3                   (Cheese)\n",
      "5       0.4                     (Milk)\n",
      "6       0.4          (Butter, Bananas)\n",
      "7       0.3          (Bananas, Cereal)\n",
      "8       0.3          (Bananas, Cheese)\n",
      "9       0.3           (Butter, Cereal)\n",
      "10      0.3           (Butter, Cheese)\n",
      "11      0.3  (Butter, Bananas, Cheese)\n"
     ]
    }
   ],
   "source": [
    "#Analyze with Apriori\n",
    "from mlxtend.preprocessing import TransactionEncoder\n",
    "from mlxtend.frequent_patterns import apriori\n",
    "\n",
    "# One-hot encode the transactions\n",
    "te = TransactionEncoder()\n",
    "te_ary = te.fit(transactions).transform(transactions)\n",
    "df = pd.DataFrame(te_ary, columns=te.columns_)\n",
    "\n",
    "# Find frequent itemsets with minimum support of 0.3\n",
    "frequent_itemsets = apriori(df, min_support=0.3, use_colnames=True)\n",
    "\n",
    "print(\"\\nFrequent Itemsets:\")\n",
    "print(frequent_itemsets)\n"
   ]
  },
  {
   "cell_type": "code",
   "execution_count": 5,
   "id": "d3d680fb",
   "metadata": {},
   "outputs": [
    {
     "name": "stdout",
     "output_type": "stream",
     "text": [
      "\n",
      "Association Rules:\n",
      "         antecedents        consequents  support  confidence      lift\n",
      "0           (Cheese)          (Bananas)      0.3        1.00  1.666667\n",
      "1           (Cheese)           (Butter)      0.3        1.00  1.666667\n",
      "2  (Butter, Bananas)           (Cheese)      0.3        0.75  2.500000\n",
      "3   (Butter, Cheese)          (Bananas)      0.3        1.00  1.666667\n",
      "4  (Bananas, Cheese)           (Butter)      0.3        1.00  1.666667\n",
      "5           (Cheese)  (Butter, Bananas)      0.3        1.00  2.500000\n"
     ]
    }
   ],
   "source": [
    "#Generate Rules\n",
    "from mlxtend.frequent_patterns import association_rules\n",
    "\n",
    "# Generate rules with confidence threshold of 0.7\n",
    "rules = association_rules(frequent_itemsets, metric=\"confidence\", min_threshold=0.7)\n",
    "\n",
    "# Show at least 2 rules\n",
    "print(\"\\nAssociation Rules:\")\n",
    "print(rules[['antecedents', 'consequents', 'support', 'confidence', 'lift']])\n"
   ]
  }
 ],
 "metadata": {
  "kernelspec": {
   "display_name": "Python 3",
   "language": "python",
   "name": "python3"
  },
  "language_info": {
   "codemirror_mode": {
    "name": "ipython",
    "version": 3
   },
   "file_extension": ".py",
   "mimetype": "text/x-python",
   "name": "python",
   "nbconvert_exporter": "python",
   "pygments_lexer": "ipython3",
   "version": "3.12.10"
  }
 },
 "nbformat": 4,
 "nbformat_minor": 5
}
